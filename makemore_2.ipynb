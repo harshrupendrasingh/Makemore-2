{
  "nbformat": 4,
  "nbformat_minor": 0,
  "metadata": {
    "colab": {
      "provenance": [],
      "authorship_tag": "ABX9TyN9aQIHcYDbGp8AwYBxaoKB",
      "include_colab_link": true
    },
    "kernelspec": {
      "name": "python3",
      "display_name": "Python 3"
    },
    "language_info": {
      "name": "python"
    }
  },
  "cells": [
    {
      "cell_type": "markdown",
      "metadata": {
        "id": "view-in-github",
        "colab_type": "text"
      },
      "source": [
        "<a href=\"https://colab.research.google.com/github/harshrupendrasingh/Makemore-2/blob/main/makemore_2.ipynb\" target=\"_parent\"><img src=\"https://colab.research.google.com/assets/colab-badge.svg\" alt=\"Open In Colab\"/></a>"
      ]
    },
    {
      "cell_type": "code",
      "source": [
        "from google.colab import drive\n",
        "drive.mount('/content/drive')"
      ],
      "metadata": {
        "colab": {
          "base_uri": "https://localhost:8080/"
        },
        "id": "mjn8u-AgdfUa",
        "outputId": "8a661dc8-e0fb-42a4-c6d0-47e0a68c1c2d"
      },
      "execution_count": null,
      "outputs": [
        {
          "output_type": "stream",
          "name": "stdout",
          "text": [
            "Drive already mounted at /content/drive; to attempt to forcibly remount, call drive.mount(\"/content/drive\", force_remount=True).\n"
          ]
        }
      ]
    },
    {
      "cell_type": "code",
      "execution_count": null,
      "metadata": {
        "id": "8uOgS_ZsjcfX"
      },
      "outputs": [],
      "source": [
        "import torch\n",
        "import torch.nn.functional as F\n",
        "import matplotlib.pyplot as plt\n",
        "%matplotlib inline"
      ]
    },
    {
      "cell_type": "code",
      "source": [
        "file_path = '/content/drive/MyDrive/names.txt'\n",
        "\n",
        "words = open(file_path, 'r').read().splitlines()\n",
        "words[:8]"
      ],
      "metadata": {
        "colab": {
          "base_uri": "https://localhost:8080/"
        },
        "id": "IQLiDOH5kDEy",
        "outputId": "8ba0b694-0925-4f31-a9de-0bc1330a8ea5"
      },
      "execution_count": null,
      "outputs": [
        {
          "output_type": "execute_result",
          "data": {
            "text/plain": [
              "['emma', 'olivia', 'ava', 'isabella', 'sophia', 'charlotte', 'mia', 'amelia']"
            ]
          },
          "metadata": {},
          "execution_count": 47
        }
      ]
    },
    {
      "cell_type": "code",
      "source": [
        "len(words)"
      ],
      "metadata": {
        "colab": {
          "base_uri": "https://localhost:8080/"
        },
        "id": "_0U0qAZtkTy6",
        "outputId": "05200774-5355-4d60-cbba-c617090492f5"
      },
      "execution_count": null,
      "outputs": [
        {
          "output_type": "execute_result",
          "data": {
            "text/plain": [
              "32033"
            ]
          },
          "metadata": {},
          "execution_count": 48
        }
      ]
    },
    {
      "cell_type": "code",
      "source": [
        "chars = sorted(list(set(''.join(words))))\n",
        "stoi = {s:i+1 for i, s in enumerate(chars)}\n",
        "stoi['.'] = 0\n",
        "\n",
        "itos = {i:s for s, i in stoi.items()}\n",
        "print(stoi)\n",
        "print(itos)"
      ],
      "metadata": {
        "colab": {
          "base_uri": "https://localhost:8080/"
        },
        "id": "9u3Lh9gLkVvx",
        "outputId": "3b9c27f3-31e9-4294-b296-d5414e24e076"
      },
      "execution_count": null,
      "outputs": [
        {
          "output_type": "stream",
          "name": "stdout",
          "text": [
            "{'a': 1, 'b': 2, 'c': 3, 'd': 4, 'e': 5, 'f': 6, 'g': 7, 'h': 8, 'i': 9, 'j': 10, 'k': 11, 'l': 12, 'm': 13, 'n': 14, 'o': 15, 'p': 16, 'q': 17, 'r': 18, 's': 19, 't': 20, 'u': 21, 'v': 22, 'w': 23, 'x': 24, 'y': 25, 'z': 26, '.': 0}\n",
            "{1: 'a', 2: 'b', 3: 'c', 4: 'd', 5: 'e', 6: 'f', 7: 'g', 8: 'h', 9: 'i', 10: 'j', 11: 'k', 12: 'l', 13: 'm', 14: 'n', 15: 'o', 16: 'p', 17: 'q', 18: 'r', 19: 's', 20: 't', 21: 'u', 22: 'v', 23: 'w', 24: 'x', 25: 'y', 26: 'z', 0: '.'}\n"
          ]
        }
      ]
    },
    {
      "cell_type": "code",
      "source": [
        "block_size = 3\n",
        "\n",
        "x, y = [], []\n",
        "\n",
        "for w in words[:5]:\n",
        "#  print(w)\n",
        "\n",
        "  context = [0] * block_size\n",
        "  for ch in w + '.':\n",
        "    ix = stoi[ch]\n",
        "    x.append(context)\n",
        "    y.append(ix)\n",
        " #   print(''.join(itos[i] for i in context), '---->', itos[ix])\n",
        "    context = context[1:] + [ix]\n",
        "\n",
        "X = torch.tensor(x)\n",
        "Y = torch.tensor(y)\n"
      ],
      "metadata": {
        "id": "wAtEADAFvNgR"
      },
      "execution_count": null,
      "outputs": []
    },
    {
      "cell_type": "code",
      "source": [
        "C = torch.randn((27, 2))\n",
        "C"
      ],
      "metadata": {
        "colab": {
          "base_uri": "https://localhost:8080/"
        },
        "id": "Wo2lCkoNxcxS",
        "outputId": "e3029f29-3521-4294-880f-0f82063789ee"
      },
      "execution_count": null,
      "outputs": [
        {
          "output_type": "execute_result",
          "data": {
            "text/plain": [
              "tensor([[ 8.7927e-01,  4.7804e-01],\n",
              "        [-1.4070e+00, -1.7433e+00],\n",
              "        [-1.4846e+00, -5.6719e-01],\n",
              "        [-6.0259e-01,  4.2873e-01],\n",
              "        [ 1.2300e+00, -8.2585e-01],\n",
              "        [-1.9010e-02,  1.3110e-01],\n",
              "        [ 1.5049e+00, -1.8850e-01],\n",
              "        [-1.0745e+00, -1.7074e+00],\n",
              "        [ 2.7828e-01,  2.8609e-01],\n",
              "        [ 1.1269e-01, -8.3772e-01],\n",
              "        [ 2.8972e-01, -1.7442e+00],\n",
              "        [ 8.0030e-01,  7.2558e-01],\n",
              "        [ 1.6065e+00,  4.8285e-01],\n",
              "        [-3.4483e-01, -2.8918e-01],\n",
              "        [-2.1505e-01,  2.4885e-02],\n",
              "        [-8.4543e-02, -1.1712e-01],\n",
              "        [-1.3939e-01, -2.4444e+00],\n",
              "        [-3.8018e-01,  5.9177e-01],\n",
              "        [-9.8232e-01,  4.4255e-01],\n",
              "        [ 7.4521e-01, -5.6644e-01],\n",
              "        [-5.6222e-01,  9.5105e-02],\n",
              "        [-2.1958e-02,  1.0034e+00],\n",
              "        [ 6.6789e-01, -2.9627e-01],\n",
              "        [ 8.3752e-01, -3.0169e-01],\n",
              "        [ 1.4626e+00, -9.8253e-01],\n",
              "        [-1.1149e+00, -7.5262e-01],\n",
              "        [-8.4893e-04, -4.7683e-01]])"
            ]
          },
          "metadata": {},
          "execution_count": 51
        }
      ]
    },
    {
      "cell_type": "code",
      "source": [
        "emb = C[X]\n",
        "emb.shape"
      ],
      "metadata": {
        "colab": {
          "base_uri": "https://localhost:8080/"
        },
        "id": "qj8l6xAm1GQb",
        "outputId": "e5dfa49d-5dc5-4480-f824-c2687bebab9c"
      },
      "execution_count": null,
      "outputs": [
        {
          "output_type": "execute_result",
          "data": {
            "text/plain": [
              "torch.Size([32, 3, 2])"
            ]
          },
          "metadata": {},
          "execution_count": 52
        }
      ]
    },
    {
      "cell_type": "code",
      "source": [
        "W1 = torch.randn((6, 100))\n",
        "b1 = torch.randn(100)"
      ],
      "metadata": {
        "id": "FyJBZpGnskHw"
      },
      "execution_count": null,
      "outputs": []
    },
    {
      "cell_type": "code",
      "source": [
        "#trying to change the shape of emb so that it can multiply with the w\n",
        "torch.cat([emb[:, 0, :], emb[:, 1, :], emb[:, 2, :]], 1).shape"
      ],
      "metadata": {
        "colab": {
          "base_uri": "https://localhost:8080/"
        },
        "id": "--7rWE-Fs5xH",
        "outputId": "48e42b6d-d616-4462-e8ef-c27febebd858"
      },
      "execution_count": null,
      "outputs": [
        {
          "output_type": "execute_result",
          "data": {
            "text/plain": [
              "torch.Size([32, 6])"
            ]
          },
          "metadata": {},
          "execution_count": 54
        }
      ]
    },
    {
      "cell_type": "code",
      "source": [
        "#this one works veen if we change the bolck_size\n",
        "torch.cat(torch.unbind(emb, 1), 1).shape"
      ],
      "metadata": {
        "colab": {
          "base_uri": "https://localhost:8080/"
        },
        "id": "B_-DTFQPtXJt",
        "outputId": "f6fde3cf-6b6a-4e17-904b-eed8673e06ef"
      },
      "execution_count": null,
      "outputs": [
        {
          "output_type": "execute_result",
          "data": {
            "text/plain": [
              "torch.Size([32, 6])"
            ]
          },
          "metadata": {},
          "execution_count": 55
        }
      ]
    },
    {
      "cell_type": "code",
      "source": [
        "#more ways\n",
        "#better that the previour\n",
        "emb.view(32, 6)"
      ],
      "metadata": {
        "colab": {
          "base_uri": "https://localhost:8080/"
        },
        "id": "nYUCHDpAtvgQ",
        "outputId": "b6d94ba2-a93b-4710-c41e-ccf6c0913f2f"
      },
      "execution_count": null,
      "outputs": [
        {
          "output_type": "execute_result",
          "data": {
            "text/plain": [
              "tensor([[ 0.8793,  0.4780,  0.8793,  0.4780,  0.8793,  0.4780],\n",
              "        [ 0.8793,  0.4780,  0.8793,  0.4780, -0.0190,  0.1311],\n",
              "        [ 0.8793,  0.4780, -0.0190,  0.1311, -0.3448, -0.2892],\n",
              "        [-0.0190,  0.1311, -0.3448, -0.2892, -0.3448, -0.2892],\n",
              "        [-0.3448, -0.2892, -0.3448, -0.2892, -1.4070, -1.7433],\n",
              "        [ 0.8793,  0.4780,  0.8793,  0.4780,  0.8793,  0.4780],\n",
              "        [ 0.8793,  0.4780,  0.8793,  0.4780, -0.0845, -0.1171],\n",
              "        [ 0.8793,  0.4780, -0.0845, -0.1171,  1.6065,  0.4828],\n",
              "        [-0.0845, -0.1171,  1.6065,  0.4828,  0.1127, -0.8377],\n",
              "        [ 1.6065,  0.4828,  0.1127, -0.8377,  0.6679, -0.2963],\n",
              "        [ 0.1127, -0.8377,  0.6679, -0.2963,  0.1127, -0.8377],\n",
              "        [ 0.6679, -0.2963,  0.1127, -0.8377, -1.4070, -1.7433],\n",
              "        [ 0.8793,  0.4780,  0.8793,  0.4780,  0.8793,  0.4780],\n",
              "        [ 0.8793,  0.4780,  0.8793,  0.4780, -1.4070, -1.7433],\n",
              "        [ 0.8793,  0.4780, -1.4070, -1.7433,  0.6679, -0.2963],\n",
              "        [-1.4070, -1.7433,  0.6679, -0.2963, -1.4070, -1.7433],\n",
              "        [ 0.8793,  0.4780,  0.8793,  0.4780,  0.8793,  0.4780],\n",
              "        [ 0.8793,  0.4780,  0.8793,  0.4780,  0.1127, -0.8377],\n",
              "        [ 0.8793,  0.4780,  0.1127, -0.8377,  0.7452, -0.5664],\n",
              "        [ 0.1127, -0.8377,  0.7452, -0.5664, -1.4070, -1.7433],\n",
              "        [ 0.7452, -0.5664, -1.4070, -1.7433, -1.4846, -0.5672],\n",
              "        [-1.4070, -1.7433, -1.4846, -0.5672, -0.0190,  0.1311],\n",
              "        [-1.4846, -0.5672, -0.0190,  0.1311,  1.6065,  0.4828],\n",
              "        [-0.0190,  0.1311,  1.6065,  0.4828,  1.6065,  0.4828],\n",
              "        [ 1.6065,  0.4828,  1.6065,  0.4828, -1.4070, -1.7433],\n",
              "        [ 0.8793,  0.4780,  0.8793,  0.4780,  0.8793,  0.4780],\n",
              "        [ 0.8793,  0.4780,  0.8793,  0.4780,  0.7452, -0.5664],\n",
              "        [ 0.8793,  0.4780,  0.7452, -0.5664, -0.0845, -0.1171],\n",
              "        [ 0.7452, -0.5664, -0.0845, -0.1171, -0.1394, -2.4444],\n",
              "        [-0.0845, -0.1171, -0.1394, -2.4444,  0.2783,  0.2861],\n",
              "        [-0.1394, -2.4444,  0.2783,  0.2861,  0.1127, -0.8377],\n",
              "        [ 0.2783,  0.2861,  0.1127, -0.8377, -1.4070, -1.7433]])"
            ]
          },
          "metadata": {},
          "execution_count": 56
        }
      ]
    },
    {
      "cell_type": "code",
      "source": [
        "h = torch.tanh(emb.view(-1, 6) @ W1 + b1)\n",
        "h.shape"
      ],
      "metadata": {
        "colab": {
          "base_uri": "https://localhost:8080/"
        },
        "id": "oxN3yMytu7b6",
        "outputId": "b0683e1b-7236-4c72-c53f-00aef6daffc3"
      },
      "execution_count": null,
      "outputs": [
        {
          "output_type": "execute_result",
          "data": {
            "text/plain": [
              "torch.Size([32, 100])"
            ]
          },
          "metadata": {},
          "execution_count": 57
        }
      ]
    },
    {
      "cell_type": "code",
      "source": [
        "W2 = torch.randn((100, 27))\n",
        "b2 = torch.randn(27)"
      ],
      "metadata": {
        "id": "8CgDBnz9v_gG"
      },
      "execution_count": null,
      "outputs": []
    },
    {
      "cell_type": "code",
      "source": [
        "logits = h @ W2 + b2\n",
        "logits.shape"
      ],
      "metadata": {
        "colab": {
          "base_uri": "https://localhost:8080/"
        },
        "id": "CguzBKmGwQOP",
        "outputId": "cf85cd32-dfa4-44ee-b0f7-53f7e1f3c3e6"
      },
      "execution_count": null,
      "outputs": [
        {
          "output_type": "execute_result",
          "data": {
            "text/plain": [
              "torch.Size([32, 27])"
            ]
          },
          "metadata": {},
          "execution_count": 59
        }
      ]
    },
    {
      "cell_type": "code",
      "source": [
        "counts = logits.exp()"
      ],
      "metadata": {
        "id": "Vhbn1Tbrw9Ik"
      },
      "execution_count": null,
      "outputs": []
    },
    {
      "cell_type": "code",
      "source": [
        "prob = counts / counts.sum(1, keepdim=True)\n",
        "prob.shape"
      ],
      "metadata": {
        "colab": {
          "base_uri": "https://localhost:8080/"
        },
        "id": "Yn4js-BXxBgi",
        "outputId": "91c8ee93-612b-4b1e-c3db-2be99dc45247"
      },
      "execution_count": null,
      "outputs": [
        {
          "output_type": "execute_result",
          "data": {
            "text/plain": [
              "torch.Size([32, 27])"
            ]
          },
          "metadata": {},
          "execution_count": 61
        }
      ]
    },
    {
      "cell_type": "markdown",
      "source": [
        "rewrite everything but better\n"
      ],
      "metadata": {
        "id": "-g2qHOoiydd1"
      }
    },
    {
      "cell_type": "code",
      "source": [
        "# build the dataset\n",
        "block_size = 3 # context length: how many characters do we take to predict the next one?\n",
        "\n",
        "def build_dataset(words):\n",
        "  X, Y = [], []\n",
        "  for w in words:\n",
        "\n",
        "    #print(w)\n",
        "    context = [0] * block_size\n",
        "    for ch in w + '.':\n",
        "      ix = stoi[ch]\n",
        "      X.append(context)\n",
        "      Y.append(ix)\n",
        "      #print(''.join(itos[i] for i in context), '--->', itos[ix])\n",
        "      context = context[1:] + [ix] # crop and append\n",
        "\n",
        "  X = torch.tensor(X)\n",
        "  Y = torch.tensor(Y)\n",
        "  print(X.shape, Y.shape)\n",
        "  return X, Y\n",
        "\n",
        "import random\n",
        "random.seed(42)\n",
        "random.shuffle(words)\n",
        "n1 = int(0.8*len(words))\n",
        "n2 = int(0.9*len(words))\n",
        "\n",
        "Xtr, Ytr = build_dataset(words[:n1])\n",
        "Xdev, Ydev = build_dataset(words[n1:n2])\n",
        "Xte, Yte = build_dataset(words[n2:])"
      ],
      "metadata": {
        "colab": {
          "base_uri": "https://localhost:8080/"
        },
        "id": "NpDqqyilOI1o",
        "outputId": "c1d1e47d-ac28-42d3-8531-6a44db315d60"
      },
      "execution_count": null,
      "outputs": [
        {
          "output_type": "stream",
          "name": "stdout",
          "text": [
            "torch.Size([182625, 3]) torch.Size([182625])\n",
            "torch.Size([22655, 3]) torch.Size([22655])\n",
            "torch.Size([22866, 3]) torch.Size([22866])\n"
          ]
        }
      ]
    },
    {
      "cell_type": "code",
      "source": [
        "X.shape, Y.shape"
      ],
      "metadata": {
        "colab": {
          "base_uri": "https://localhost:8080/"
        },
        "id": "E2Fsr8XvxSEl",
        "outputId": "3c2599e3-45e0-43b8-afb8-cf56916b1703"
      },
      "execution_count": null,
      "outputs": [
        {
          "output_type": "execute_result",
          "data": {
            "text/plain": [
              "(torch.Size([32, 3]), torch.Size([32]))"
            ]
          },
          "metadata": {},
          "execution_count": 63
        }
      ]
    },
    {
      "cell_type": "code",
      "source": [
        "g = torch.Generator().manual_seed(2147483647) # for reproducibility\n",
        "C = torch.randn((27, 10), generator=g)\n",
        "W1 = torch.randn((30, 200), generator=g)\n",
        "b1 = torch.randn(200, generator=g)\n",
        "W2 = torch.randn((200, 27), generator=g)\n",
        "b2 = torch.randn(27, generator=g)\n",
        "parameters = [C, W1, b1, W2, b2]"
      ],
      "metadata": {
        "id": "NL3hmqPQymm_"
      },
      "execution_count": null,
      "outputs": []
    },
    {
      "cell_type": "code",
      "source": [
        "for p in parameters:\n",
        "  p.requires_grad = True"
      ],
      "metadata": {
        "id": "FrXLWv4a0kGO"
      },
      "execution_count": null,
      "outputs": []
    },
    {
      "cell_type": "code",
      "source": [
        "lre = torch.linspace(-3, 0, 1000)\n",
        "lrs = 10**lre"
      ],
      "metadata": {
        "collapsed": true,
        "id": "Y1c0fGdPtNo6"
      },
      "execution_count": null,
      "outputs": []
    },
    {
      "cell_type": "code",
      "source": [
        "lri = []\n",
        "lossi = []\n",
        "stepi = []"
      ],
      "metadata": {
        "id": "w-AafdeMV6P_"
      },
      "execution_count": null,
      "outputs": []
    },
    {
      "cell_type": "code",
      "source": [
        "for i in range(200000):\n",
        "\n",
        "  # minibatch construct\n",
        "  ix = torch.randint(0, Xtr.shape[0], (32,))\n",
        "\n",
        "  # forward pass\n",
        "  emb = C[Xtr[ix]] # (32, 3, 2)\n",
        "  h = torch.tanh(emb.view(-1, 30) @ W1 + b1) # (32, 100)\n",
        "  logits = h @ W2 + b2 # (32, 27)\n",
        "  loss = F.cross_entropy(logits, Ytr[ix])\n",
        "  #print(loss.item())\n",
        "\n",
        "  # backward pass\n",
        "  for p in parameters:\n",
        "    p.grad = None\n",
        "  loss.backward()\n",
        "\n",
        "  # update\n",
        "  #lr = lrs[i]\n",
        "  lr = 0.1 if i < 100000 else 0.01\n",
        "  for p in parameters:\n",
        "    p.data += -lr * p.grad\n",
        "\n",
        "  # track stats\n",
        "  #lri.append(lre[i])\n",
        "  stepi.append(i)\n",
        "  lossi.append(loss.log10().item())\n",
        "\n",
        "#print(loss.item())"
      ],
      "metadata": {
        "collapsed": true,
        "id": "ogexPn84zX_D"
      },
      "execution_count": null,
      "outputs": []
    },
    {
      "cell_type": "code",
      "source": [
        "plt.plot(stepi, lossi)"
      ],
      "metadata": {
        "colab": {
          "base_uri": "https://localhost:8080/",
          "height": 447
        },
        "id": "Q_cLr5RFWFWp",
        "outputId": "2733cdea-939f-41e8-804d-f86a58d9ef99"
      },
      "execution_count": null,
      "outputs": [
        {
          "output_type": "execute_result",
          "data": {
            "text/plain": [
              "[<matplotlib.lines.Line2D at 0x7d86c6e8d1e0>]"
            ]
          },
          "metadata": {},
          "execution_count": 69
        },
        {
          "output_type": "display_data",
          "data": {
            "text/plain": [
              "<Figure size 640x480 with 1 Axes>"
            ],
            "image/png": "[encoded data removed]"
          },
          "metadata": {}
        }
      ]
    },
    {
      "cell_type": "code",
      "source": [
        "# training loss\n",
        "emb = C[Xtr] # (32, 3, 2)\n",
        "h = torch.tanh(emb.view(-1, 30) @ W1 + b1) # (32, 100)\n",
        "logits = h @ W2 + b2 # (32, 27)\n",
        "loss = F.cross_entropy(logits, Ytr)\n",
        "loss"
      ],
      "metadata": {
        "colab": {
          "base_uri": "https://localhost:8080/"
        },
        "id": "SJuvIMyslhT0",
        "outputId": "8dfa65e0-32b2-4b56-c7b6-167e92ecb895"
      },
      "execution_count": null,
      "outputs": [
        {
          "output_type": "execute_result",
          "data": {
            "text/plain": [
              "tensor(2.1239, grad_fn=<NllLossBackward0>)"
            ]
          },
          "metadata": {},
          "execution_count": 70
        }
      ]
    },
    {
      "cell_type": "code",
      "source": [
        "# validation loss\n",
        "emb = C[Xdev] # (32, 3, 2)\n",
        "h = torch.tanh(emb.view(-1, 30) @ W1 + b1) # (32, 100)\n",
        "logits = h @ W2 + b2 # (32, 27)\n",
        "loss = F.cross_entropy(logits, Ydev)\n",
        "loss"
      ],
      "metadata": {
        "colab": {
          "base_uri": "https://localhost:8080/"
        },
        "id": "eT-o13WjYDfR",
        "outputId": "bc0faf72-4668-4a95-a8a2-7a494b12b22a"
      },
      "execution_count": null,
      "outputs": [
        {
          "output_type": "execute_result",
          "data": {
            "text/plain": [
              "tensor(2.1598, grad_fn=<NllLossBackward0>)"
            ]
          },
          "metadata": {},
          "execution_count": 71
        }
      ]
    },
    {
      "cell_type": "code",
      "source": [
        "# test loss\n",
        "emb = C[Xte] # (32, 3, 2)\n",
        "h = torch.tanh(emb.view(-1, 30) @ W1 + b1) # (32, 100)\n",
        "logits = h @ W2 + b2 # (32, 27)\n",
        "loss = F.cross_entropy(logits, Yte)\n",
        "loss"
      ],
      "metadata": {
        "colab": {
          "base_uri": "https://localhost:8080/"
        },
        "id": "fzqzq14km64M",
        "outputId": "83869fcc-b9a5-466b-8b54-91bbd9705e43"
      },
      "execution_count": null,
      "outputs": [
        {
          "output_type": "execute_result",
          "data": {
            "text/plain": [
              "tensor(2.1643, grad_fn=<NllLossBackward0>)"
            ]
          },
          "metadata": {},
          "execution_count": 72
        }
      ]
    },
    {
      "cell_type": "code",
      "source": [
        "plt.figure(figsize=(8,8))\n",
        "plt.scatter(C[:,0].data, C[:,1].data, s=200)\n",
        "for i in range(C.shape[0]):\n",
        "    plt.text(C[i,0].item(), C[i,1].item(), itos[i], ha=\"center\", va=\"center\", color='white')\n",
        "plt.grid('minor')"
      ],
      "metadata": {
        "colab": {
          "base_uri": "https://localhost:8080/",
          "height": 676
        },
        "id": "m9o0MQFqYEvg",
        "outputId": "71d7f2ab-7a31-46aa-c061-f26848ef8a40"
      },
      "execution_count": null,
      "outputs": [
        {
          "output_type": "display_data",
          "data": {
            "text/plain": [
              "<Figure size 800x800 with 1 Axes>"
            ],
            "image/png": "[encoded data removed]"
          },
          "metadata": {}
        }
      ]
    },
    {
      "cell_type": "code",
      "source": [
        "# sample from the model\n",
        "g = torch.Generator().manual_seed(2147483647 + 10)\n",
        "\n",
        "for _ in range(20):\n",
        "\n",
        "    out = []\n",
        "    context = [0] * block_size # initialize with all ...\n",
        "    while True:\n",
        "      emb = C[torch.tensor([context])] # (1,block_size,d)\n",
        "      h = torch.tanh(emb.view(1, -1) @ W1 + b1)\n",
        "      logits = h @ W2 + b2\n",
        "      probs = F.softmax(logits, dim=1)\n",
        "      ix = torch.multinomial(probs, num_samples=1, generator=g).item()\n",
        "      context = context[1:] + [ix]\n",
        "      out.append(ix)\n",
        "      if ix == 0:\n",
        "        break\n",
        "\n",
        "    print(''.join(itos[i] for i in out))"
      ],
      "metadata": {
        "colab": {
          "base_uri": "https://localhost:8080/"
        },
        "id": "eoZOZe80mwD2",
        "outputId": "b6ae734b-43bf-4768-94b3-bc9c394da807"
      },
      "execution_count": null,
      "outputs": [
        {
          "output_type": "stream",
          "name": "stdout",
          "text": [
            "mora.\n",
            "mayah.\n",
            "seel.\n",
            "nihah.\n",
            "lorethruthadrie.\n",
            "cadered.\n",
            "eliigh.\n",
            "poppire.\n",
            "eliean.\n",
            "nar.\n",
            "kayzion.\n",
            "kamin.\n",
            "shubergiag.\n",
            "jest.\n",
            "jair.\n",
            "jelipenteron.\n",
            "uma.\n",
            "ged.\n",
            "ryyah.\n",
            "fael.\n"
          ]
        }
      ]
    }
  ]
}